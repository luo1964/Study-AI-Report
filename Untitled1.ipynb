{
  "nbformat": 4,
  "nbformat_minor": 0,
  "metadata": {
    "colab": {
      "name": "Untitled1.ipynb",
      "provenance": [],
      "history_visible": true,
      "authorship_tag": "ABX9TyPxRo5rB4Kj/BNqzMcA6wy6",
      "include_colab_link": true
    },
    "kernelspec": {
      "name": "python3",
      "display_name": "Python 3"
    },
    "language_info": {
      "name": "python"
    }
  },
  "cells": [
    {
      "cell_type": "markdown",
      "metadata": {
        "id": "view-in-github",
        "colab_type": "text"
      },
      "source": [
        "<a href=\"https://colab.research.google.com/github/luo1964/Study-AI-Report/blob/main/Untitled1.ipynb\" target=\"_parent\"><img src=\"https://colab.research.google.com/assets/colab-badge.svg\" alt=\"Open In Colab\"/></a>"
      ]
    },
    {
      "cell_type": "code",
      "execution_count": 2,
      "metadata": {
        "id": "R6iak-So9zic",
        "colab": {
          "base_uri": "https://localhost:8080/"
        },
        "outputId": "0e043642-afc5-491a-9ca1-d6de20e6aab3"
      },
      "outputs": [
        {
          "output_type": "stream",
          "name": "stdout",
          "text": [
            "8\n"
          ]
        }
      ],
      "source": [
        "a = 3\n",
        "b=5\n",
        "print(a+b)"
      ]
    },
    {
      "cell_type": "code",
      "source": [
        "a = 123\n",
        "b = 123.456\n",
        "c = \"Hello World\"\n",
        "d = True\n",
        "e = [1, 2, 3]\n",
        "a1 = 1.2e-5\n",
        "print (a + a1)\n",
        "\n"
      ],
      "metadata": {
        "colab": {
          "base_uri": "https://localhost:8080/"
        },
        "id": "w2_byRt5qFFQ",
        "outputId": "e815380f-ab8a-4c44-b21f-16f2b1783797"
      },
      "execution_count": 5,
      "outputs": [
        {
          "output_type": "stream",
          "name": "stdout",
          "text": [
            "123.000012\n"
          ]
        }
      ]
    },
    {
      "cell_type": "code",
      "source": [
        "for a in range(3):\n",
        "  print (a)\n"
      ],
      "metadata": {
        "colab": {
          "base_uri": "https://localhost:8080/"
        },
        "id": "i43xY492voef",
        "outputId": "f485d2f4-ab8e-44fc-fde9-cf3c3e03037b"
      },
      "execution_count": 8,
      "outputs": [
        {
          "output_type": "stream",
          "name": "stdout",
          "text": [
            "0\n",
            "1\n",
            "2\n"
          ]
        }
      ]
    },
    {
      "cell_type": "code",
      "source": [
        "a = [1, 2, 3, 4, 5, 6]\n",
        "b= [c*3+1 for c in a]\n",
        "print(b)"
      ],
      "metadata": {
        "colab": {
          "base_uri": "https://localhost:8080/"
        },
        "id": "A4eAabXqwkRt",
        "outputId": "3fe1326e-8694-46bd-9425-24ecbdb8d8b9"
      },
      "execution_count": 13,
      "outputs": [
        {
          "output_type": "stream",
          "name": "stdout",
          "text": [
            "[4, 7, 10, 13, 16, 19]\n"
          ]
        }
      ]
    },
    {
      "cell_type": "code",
      "source": [
        "def add(a, b):\n",
        "  c = a + b\n",
        "  return c\n",
        "\n",
        "print(add(3, 4))"
      ],
      "metadata": {
        "colab": {
          "base_uri": "https://localhost:8080/"
        },
        "id": "oygMsGdixagW",
        "outputId": "7cdfd161-cf36-44ac-a1f7-16fb36e1960a"
      },
      "execution_count": 15,
      "outputs": [
        {
          "output_type": "stream",
          "name": "stdout",
          "text": [
            "7\n"
          ]
        }
      ]
    },
    {
      "cell_type": "code",
      "source": [
        "class Hello:\n",
        "  def __init__(self, name):\n",
        "    self.name = name\n",
        "\n",
        "  def __call__(self):\n",
        "    print(\"Hello \" + self.name + \"]\")\n",
        "\n",
        "h = Hello(\"AI\")\n",
        "h()\n",
        "\n",
        "Hello(\"AI\")()\n",
        "      "
      ],
      "metadata": {
        "colab": {
          "base_uri": "https://localhost:8080/"
        },
        "id": "yquHmpl42KYX",
        "outputId": "d5458755-2b88-4255-b4ee-998efaca1152"
      },
      "execution_count": 16,
      "outputs": [
        {
          "output_type": "stream",
          "name": "stdout",
          "text": [
            "Hello AI]\n",
            "Hello AI]\n"
          ]
        }
      ]
    },
    {
      "cell_type": "markdown",
      "source": [
        "# 新しいセクション"
      ],
      "metadata": {
        "id": "R7-c4uPY3djo"
      }
    },
    {
      "cell_type": "code",
      "source": [
        "import numpy as np\n",
        "\n",
        "d = np.array([[[0, 1, 2],\n",
        "               [3, 4, 5]],\n",
        "              [[5, 4, 3],\n",
        "               [2, 1, 0]]])\n",
        "\n",
        "e1 = d.reshape(2, 3, 2)\n",
        "print(e1)\n",
        "\n",
        "\n",
        "e = d.reshape(-1)\n",
        "print(e)\n"
      ],
      "metadata": {
        "colab": {
          "base_uri": "https://localhost:8080/"
        },
        "id": "S0jAAkfp30B9",
        "outputId": "c858efab-191a-4bea-f692-d04aa62d9a3b"
      },
      "execution_count": 28,
      "outputs": [
        {
          "output_type": "stream",
          "name": "stdout",
          "text": [
            "[[[0 1]\n",
            "  [2 3]\n",
            "  [4 5]]\n",
            "\n",
            " [[5 4]\n",
            "  [3 2]\n",
            "  [1 0]]]\n",
            "[0 1 2 3 4 5 5 4 3 2 1 0]\n"
          ]
        }
      ]
    },
    {
      "cell_type": "code",
      "source": [
        "import numpy as np\n",
        "\n",
        "b = np.array([[0, 1, 2],\n",
        "              [3, 4, 5]])\n",
        "\n",
        "print(np.sum(b, axis=0))\n",
        "print(np.sum(b, axis=1))"
      ],
      "metadata": {
        "colab": {
          "base_uri": "https://localhost:8080/"
        },
        "id": "x87Y0jpqA65z",
        "outputId": "9e2169a7-cd72-41e6-94a8-ee3cb3fc17be"
      },
      "execution_count": 30,
      "outputs": [
        {
          "output_type": "stream",
          "name": "stdout",
          "text": [
            "[3 5 7]\n",
            "[ 3 12]\n"
          ]
        }
      ]
    },
    {
      "cell_type": "code",
      "source": [
        "import numpy as np\n",
        "import matplotlib.pyplot as plt\n",
        "\n",
        "x = np.linspace(-5, 5)\n",
        "y = 2 * x\n",
        "plt.plot(x, y)\n",
        "plt.show\n"
      ],
      "metadata": {
        "colab": {
          "base_uri": "https://localhost:8080/",
          "height": 284
        },
        "id": "KC5FQd9sBkns",
        "outputId": "4a159ea6-57f7-4f5b-b5af-14d909c1058d"
      },
      "execution_count": 35,
      "outputs": [
        {
          "output_type": "execute_result",
          "data": {
            "text/plain": [
              "<function matplotlib.pyplot.show>"
            ]
          },
          "metadata": {},
          "execution_count": 35
        },
        {
          "output_type": "display_data",
          "data": {
            "text/plain": [
              "<Figure size 432x288 with 1 Axes>"
            ],
            "image/png": "[encoded data removed]"
          },
          "metadata": {
            "needs_background": "light"
          }
        }
      ]
    },
    {
      "cell_type": "code",
      "source": [
        "import numpy as np\n",
        "import matplotlib.pyplot as plt\n",
        "\n",
        "img = np.array([[0, 1, 2, 3],\n",
        "               [4, 5, 6, 7],\n",
        "               [8, 9, 10, 11],\n",
        "                [12, 13, 14,15]])\n",
        "\n",
        "plt.imshow(img)\n",
        "plt.colorbar()\n",
        "plt.show"
      ],
      "metadata": {
        "colab": {
          "base_uri": "https://localhost:8080/",
          "height": 287
        },
        "id": "zZ-91P5aEARY",
        "outputId": "6260997c-81fe-46f3-c8e7-e283215e0e89"
      },
      "execution_count": 38,
      "outputs": [
        {
          "output_type": "execute_result",
          "data": {
            "text/plain": [
              "<function matplotlib.pyplot.show>"
            ]
          },
          "metadata": {},
          "execution_count": 38
        },
        {
          "output_type": "display_data",
          "data": {
            "text/plain": [
              "<Figure size 432x288 with 2 Axes>"
            ],
            "image/png": "[encoded data removed]"
          },
          "metadata": {
            "needs_background": "light"
          }
        }
      ]
    }
  ]
}